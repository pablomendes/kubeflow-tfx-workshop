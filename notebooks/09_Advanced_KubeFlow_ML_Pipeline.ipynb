{
 "cells": [
  {
   "cell_type": "markdown",
   "metadata": {},
   "source": [
    "# Review this code\n",
    "\n",
    "https://github.com/PipelineAI/kubeflow-tfx-workshop/tree/master/kubeflow-pipelines/taxi"
   ]
  },
  {
   "cell_type": "markdown",
   "metadata": {},
   "source": [
    "# Upload the Compiled KubeFlow Pipeline\n",
    "\n",
    "https://github.com/PipelineAI/kubeflow-tfx-workshop/raw/master/kubeflow-pipelines/taxi/taxi-cab-classification-pipeline.tar.gz\n",
    "\n",
    "![KubeFlow Upload Pipeline](https://pipeline.ai/assets/img/kubeflow-upload-pipeline.png)\n",
    "\n",
    "![KubeFlow Upload Pipeline](https://pipeline.ai/assets/img/kubeflow-upload-pipeline-2.png)"
   ]
  },
  {
   "cell_type": "markdown",
   "metadata": {},
   "source": [
    "# Run KubeFlow Pipeline\n",
    "\n",
    "![Run KubeFlow Pipeline](https://pipeline.ai/assets/img/kubeflow-run-pipeline.png)"
   ]
  },
  {
   "cell_type": "markdown",
   "metadata": {},
   "source": [
    "# Verify Successful KubeFlow Pipeline Completion\n",
    "![KubeFlow Pipeline Completion](https://pipeline.ai/assets/img/kubeflow-pipeline-complete.png)"
   ]
  },
  {
   "cell_type": "code",
   "execution_count": null,
   "metadata": {},
   "outputs": [],
   "source": []
  }
 ],
 "metadata": {
  "kernelspec": {
   "display_name": "Python 3",
   "language": "python",
   "name": "python3"
  },
  "language_info": {
   "codemirror_mode": {
    "name": "ipython",
    "version": 3
   },
   "file_extension": ".py",
   "mimetype": "text/x-python",
   "name": "python",
   "nbconvert_exporter": "python",
   "pygments_lexer": "ipython3",
   "version": "3.6.7"
  }
 },
 "nbformat": 4,
 "nbformat_minor": 2
}
